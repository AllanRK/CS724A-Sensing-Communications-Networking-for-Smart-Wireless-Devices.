{
 "cells": [
  {
   "cell_type": "markdown",
   "id": "5ae5fa8d",
   "metadata": {},
   "source": [
    "# ASSIGNMENT 1\n",
    "\n",
    "    Name : Allan Robey\n",
    "    Roll No: 2211007"
   ]
  },
  {
   "cell_type": "markdown",
   "id": "1c9fb188",
   "metadata": {},
   "source": [
    "# Question - 1"
   ]
  },
  {
   "cell_type": "markdown",
   "id": "c6548fa0",
   "metadata": {},
   "source": [
    "1. C(A) = 2\n",
    "    As column vector1 and column vector2 are non-colinear and linearly independant.\n",
    "\n",
    "2. C(B) = 1\n",
    "    As column vector2 and column vector1 are co-linear and can be expressed as linear combination of the other.\n",
    "\n",
    "3. C(D) = 2\n",
    "    As column vector2 and column vector1 are co-linear and can be expressed as linear combination of the other.\n"
   ]
  },
  {
   "cell_type": "markdown",
   "id": "7d234cc1",
   "metadata": {},
   "source": [
    "\n",
    "# Question - 2"
   ]
  },
  {
   "cell_type": "code",
   "execution_count": 27,
   "id": "c600f3db",
   "metadata": {},
   "outputs": [],
   "source": [
    "import numpy as np\n",
    "import pandas as pd"
   ]
  },
  {
   "cell_type": "markdown",
   "id": "fc0ccce6",
   "metadata": {},
   "source": [
    "In Question 2-a we fix the location of the user at (100,100,100). Then we take 5 satellites at random locations with satellite1 at (100,200,200), satellite2 at (190,250,145),satellite3 at (200,350,120), satellite4 at (50,200,125) and satellite5 at (125,400,100) respectively. Radio waves travel at the speed of light. c indicates the speed of the light in m/s which is 3*10^8 m/s.\n",
    "\n",
    "The function calculate_distance has been defined to calculate the distance between the user and the satellite respectively. Using the distance calculated between the user and satellite, the time taken for a signal to arrive from the satellite to the user has been calculated and displayed in ns respectively."
   ]
  },
  {
   "cell_type": "code",
   "execution_count": 28,
   "id": "8fbdb7bb",
   "metadata": {},
   "outputs": [],
   "source": [
    "#Question 2a\n",
    "#Fix the user at (100,100,100)\n",
    "\n",
    "user = [100,100,100]\n",
    "\n",
    "#Random location of 5 satellites\n",
    "\n",
    "satellite1 = [100,200,200]\n",
    "satellite2 = [190,250,145]\n",
    "satellite3 = [200,350,120]\n",
    "satellite4 = [150,200,125]\n",
    "satellite5 = [125,400,100]\n",
    "\n",
    "#c indicates the speed of the light in m/s\n",
    "\n",
    "c = 3*10**8"
   ]
  },
  {
   "cell_type": "code",
   "execution_count": 29,
   "id": "637b4614",
   "metadata": {},
   "outputs": [],
   "source": [
    "#Function to calculate the distance between the user and the satellite\n",
    "\n",
    "def calculate_distance(s):\n",
    "    x = (100 - s[0])**2 + (100 - s[1])**2 + (100 - s[2])**2\n",
    "    x = x**(0.5)\n",
    "    return x\n",
    "    "
   ]
  },
  {
   "cell_type": "code",
   "execution_count": 30,
   "id": "2c3f7c6b",
   "metadata": {},
   "outputs": [
    {
     "name": "stdout",
     "output_type": "stream",
     "text": [
      "Distance between the user and the satellite1:  141.4213562373095\n",
      "Distance between the user and the satellite2:  180.62391868188442\n",
      "Distance between the user and the satellite3:  270.0\n",
      "Distance between the user and the satellite4:  114.564392373896\n",
      "Distance between the user and the satellite5:  301.0398644698074\n"
     ]
    }
   ],
   "source": [
    "# dist1 , dist2 , dist3 , dist4, dist5 indicate the distance between the user and the satellites\n",
    "\n",
    "dist1 = calculate_distance(satellite1)\n",
    "dist2 = calculate_distance(satellite2)\n",
    "dist3 = calculate_distance(satellite3)\n",
    "dist4 = calculate_distance(satellite4)\n",
    "dist5 = calculate_distance(satellite5)\n",
    "print(\"Distance between the user and the satellite1: \",dist1)\n",
    "print(\"Distance between the user and the satellite2: \",dist2)\n",
    "print(\"Distance between the user and the satellite3: \",dist3)\n",
    "print(\"Distance between the user and the satellite4: \",dist4)\n",
    "print(\"Distance between the user and the satellite5: \",dist5)"
   ]
  },
  {
   "cell_type": "code",
   "execution_count": 31,
   "id": "d94f7612",
   "metadata": {},
   "outputs": [
    {
     "name": "stdout",
     "output_type": "stream",
     "text": [
      "Time taken for a signal to arrive from satellite1 to user  471.4045207910317 ns\n",
      "Time taken for a signal to arrive from satellite2 to user  602.0797289396148 ns\n",
      "Time taken for a signal to arrive from satellite3 to user  900.0 ns\n",
      "Time taken for a signal to arrive from satellite4 to user  381.88130791298664 ns\n",
      "Time taken for a signal to arrive from satellite5 to user  1003.4662148993581 ns\n"
     ]
    }
   ],
   "source": [
    "# time1 , time2 , time3 , time4, time5 indicate the time taken for a signalto arrive from each of the satellites to the user.\n",
    "# time is displayed in ns\n",
    "\n",
    "z = 10 ** 9\n",
    "time1 = dist1 / c\n",
    "time2 = dist2 / c\n",
    "time3 = dist3 / c\n",
    "time4 = dist4 / c\n",
    "time5 = dist5 / c\n",
    "\n",
    "print(\"Time taken for a signal to arrive from satellite1 to user \",time1*z,\"ns\")\n",
    "print(\"Time taken for a signal to arrive from satellite2 to user \",time2*z,\"ns\")\n",
    "print(\"Time taken for a signal to arrive from satellite3 to user \",time3*z,\"ns\")\n",
    "print(\"Time taken for a signal to arrive from satellite4 to user \",time4*z,\"ns\")\n",
    "print(\"Time taken for a signal to arrive from satellite5 to user \",time5*z,\"ns\")\n"
   ]
  },
  {
   "cell_type": "markdown",
   "id": "4e08d1df",
   "metadata": {},
   "source": [
    "In Question 2-b we do the opposite operation, i.e using the satellite locations and the times to find the location of the user and check whether the location of the user is coming exactly as (100,100,100). Computing  X as inverse(A_transpose * A) * (A_transpose * B)."
   ]
  },
  {
   "cell_type": "code",
   "execution_count": 32,
   "id": "2d0a9a5c",
   "metadata": {},
   "outputs": [
    {
     "name": "stdout",
     "output_type": "stream",
     "text": [
      "Location of the user: \n",
      "[[100.]\n",
      " [100.]\n",
      " [100.]]\n"
     ]
    }
   ],
   "source": [
    "#Question - 2b\n",
    "\n",
    "s1 = satellite1\n",
    "s2 = satellite2\n",
    "s3 = satellite3\n",
    "s4 = satellite4\n",
    "s5 = satellite5\n",
    "\n",
    "\n",
    "matrix_a = [[2*(s2[0]-s1[0]) , 2*(s2[1]-s1[1]) , 2*(s2[2]-s1[2])] ,[2*(s3[0]-s2[0]) , 2*(s3[1]-s2[1]) , 2*(s3[2]-s2[2])],\n",
    "            [2*(s4[0]-s3[0]) , 2*(s4[1]-s3[1]) , 2*(s4[2]-s3[2])], [2*(s5[0]-s4[0]) , 2*(s5[1]-s4[1]) , 2*(s5[2]-s4[2])]]\n",
    "\n",
    "A = np.array(matrix_a)\n",
    "\n",
    "r1 = dist1\n",
    "r2 = dist2\n",
    "r3 = dist3\n",
    "r4 = dist4\n",
    "r5 = dist5\n",
    "\n",
    "matrix_b = [[(r1**2 - r2**2)-(s1[0]**2 - s2[0]**2)-(s1[1]**2 - s2[1]**2)-(s1[2]**2 - s2[2]**2)],\n",
    "           [(r2**2 - r3**2)-(s2[0]**2 - s3[0]**2)-(s2[1]**2 - s3[1]**2)-(s2[2]**2 - s3[2]**2)],\n",
    "           [(r3**2 - r4**2)-(s3[0]**2 - s4[0]**2)-(s3[1]**2 - s4[1]**2)-(s3[2]**2 - s4[2]**2)],\n",
    "           [(r4**2 - r5**2)-(s4[0]**2 - s5[0]**2)-(s4[1]**2 - s5[1]**2)-(s4[2]**2 - s5[2]**2)]] \n",
    "\n",
    "B = np.array(matrix_b)\n",
    "\n",
    "# X = inverse(A_transpose * A) * (A_transpose * B)\n",
    "# computing tranpose of A\n",
    "A_transpose = A.transpose()\n",
    "\n",
    "# computing A_transpose * A\n",
    "Y = np.matmul(A_transpose , A)\n",
    "\n",
    "# computing inverse of A_transpose * A\n",
    "Y_inverse = np.linalg.inv(Y)\n",
    "\n",
    "# computing A_transpose * B\n",
    "W = np.matmul(A_transpose , B)\n",
    "\n",
    "# computing X as inverse(A_transpose * A) * (A_transpose * B)\n",
    "X = np.matmul(Y_inverse , W)\n",
    "print(\"Location of the user: \")\n",
    "print(X)\n"
   ]
  },
  {
   "cell_type": "code",
   "execution_count": 33,
   "id": "4584d159",
   "metadata": {},
   "outputs": [
    {
     "name": "stdout",
     "output_type": "stream",
     "text": [
      "Therefore it is coming exactly as (100,100,100)\n"
     ]
    }
   ],
   "source": [
    "print(\"Therefore it is coming exactly as (100,100,100)\")"
   ]
  },
  {
   "cell_type": "markdown",
   "id": "7c9b7970",
   "metadata": {},
   "source": [
    "In Question 2-c we are adding some random errors with the time and determining the corresponding location inaccuracy. The location inaccuracy is determined as the distance between the user's location after adding some random erros with the time and the user's fixed loaction (100,100,100)."
   ]
  },
  {
   "cell_type": "code",
   "execution_count": 38,
   "id": "c39b02b6",
   "metadata": {},
   "outputs": [
    {
     "name": "stdout",
     "output_type": "stream",
     "text": [
      "New Location of the user: \n",
      "[[100.04351749]\n",
      " [100.30084628]\n",
      " [100.13265084]]\n",
      "location Inaccuracy:  [0.33166022]\n"
     ]
    }
   ],
   "source": [
    "# Question 2C\n",
    "\n",
    "# adding some random errors to the time in terms of (-2 to 2)ns\n",
    "rand_err3 = np.random.randint(-2,2,1)[0]\n",
    "t1 = time1*z + rand_err3\n",
    "t2 = time2*z + rand_err3\n",
    "t3 = time3*z + rand_err3\n",
    "t4 = time4*z + rand_err3\n",
    "t5 = time5*z + rand_err3\n",
    "\n",
    "#calucating the distance in meteres between the user and satellite considering the random errors added to the time\n",
    "\n",
    "d1 = c * t1/z\n",
    "d2 = c * t2/z\n",
    "d3 = c * t3/z\n",
    "d4 = c * t4/z\n",
    "d5 = c * t5/z\n",
    "\n",
    "# update matrix_b\n",
    "\n",
    "updated_matrix_b1 =  [[(d1**2 - d2**2)-(s1[0]**2 - s2[0]**2)-(s1[1]**2 - s2[1]**2)-(s1[2]**2 - s2[2]**2)],\n",
    "           [(d2**2 - d3**2)-(s2[0]**2 - s3[0]**2)-(s2[1]**2 - s3[1]**2)-(s2[2]**2 - s3[2]**2)],\n",
    "           [(d3**2 - d4**2)-(s3[0]**2 - s4[0]**2)-(s3[1]**2 - s4[1]**2)-(s3[2]**2 - s4[2]**2)],\n",
    "           [(d4**2 - d5**2)-(s4[0]**2 - s5[0]**2)-(s4[1]**2 - s5[1]**2)-(s4[2]**2 - s5[2]**2)]] \n",
    "\n",
    "new_B1 = np.array(updated_matrix_b1)\n",
    "\n",
    "\n",
    "W1 = np.matmul(A_transpose , new_B1)\n",
    "\n",
    "\n",
    "X1 = np.matmul(Y_inverse , W1)\n",
    "print(\"New Location of the user: \")\n",
    "print(X1)\n",
    "m1 = calculate_distance(X1)\n",
    "print(\"location Inaccuracy: \", m1)\n"
   ]
  },
  {
   "cell_type": "markdown",
   "id": "92360c94",
   "metadata": {},
   "source": [
    "In Question - 2d we are increasing the amount of the random errors with time, and checking the effect of this change on the localization error. Thereby also plotting a graph on the amount of timing errors vs localization error to check the impact. Here I have taken 2 list time_error[] and loc_error[] to store random errors and localization error. Here in a particular time range i am  taking into consideration 3 random errors and thereby computing their corresponding localization error. Then i have calculated the average localization error and the average timing error. The average localization error and the average timing error are then stored in lists time_error[] and loc_error[] respectively. "
   ]
  },
  {
   "cell_type": "code",
   "execution_count": 35,
   "id": "d0e8a54f",
   "metadata": {},
   "outputs": [
    {
     "name": "stdout",
     "output_type": "stream",
     "text": [
      "[2.0, 8.0, 12.0, 17.0, 21.0, 27.333333333333332, 33.0, 37.333333333333336, 41.666666666666664, 47.666666666666664, 51.666666666666664, 57.333333333333336, 61.0, 67.66666666666667, 73.0, 76.33333333333333, 80.66666666666667, 86.33333333333333, 92.0, 97.33333333333333, 102.0, 107.33333333333333, 112.0, 115.33333333333333, 122.66666666666667, 125.66666666666667, 132.0, 136.33333333333334, 143.0, 147.0]\n",
      "[0.6633204346587629, 2.653281738635202, 3.9799226079527954, 5.638223694599913, 6.964864563917561, 9.065379273670517, 10.944787171870436, 12.381981446964582, 13.819175722058716, 15.809137026035087, 17.13577789535284, 19.01518579355276, 20.231273257093907, 22.4423413726232, 24.21119586504678, 25.3167299228115, 26.75392419790568, 28.633332096105562, 30.512739994305516, 32.28159448672907, 33.82934216759972, 35.59819666002315, 37.14594434089377, 38.25147839865844, 40.683653325740664, 41.678633977729014, 43.77914868748195, 45.21634296257608, 47.427411078105415, 48.75405194742314]\n"
     ]
    }
   ],
   "source": [
    "# Question 2D\n",
    "\n",
    "# adding increasing random errors to the time in terms of ns\n",
    "j=0\n",
    "time_error=[]\n",
    "loc_error=[]\n",
    "for i in range(0,30):\n",
    "    loc_err = []\n",
    "    time_err = []\n",
    "    for k in range(3):\n",
    "        random_error = np.random.randint(j,j+5,1)[0]\n",
    "        \n",
    "        time_err.append(random_error)\n",
    "\n",
    "        t21 = time1*z + random_error\n",
    "        t22 = time2*z + random_error\n",
    "        t23 = time3*z + random_error\n",
    "        t24 = time4*z + random_error\n",
    "        t25 = time5*z + random_error\n",
    "\n",
    "    #calucating the distance in meteres between the user and satellite considering the random errors added to the time\n",
    "\n",
    "        d21 = c * t21/z\n",
    "        d22 = c * t22/z\n",
    "        d23 = c * t23/z\n",
    "        d24 = c * t24/z\n",
    "        d25 = c * t25/z\n",
    "\n",
    "    # update matrix_b\n",
    "\n",
    "        updated_matrix_b2 =  [[(d21**2 - d22**2)-(s1[0]**2 - s2[0]**2)-(s1[1]**2 - s2[1]**2)-(s1[2]**2 - s2[2]**2)],\n",
    "                [(d22**2 - d23**2)-(s2[0]**2 - s3[0]**2)-(s2[1]**2 - s3[1]**2)-(s2[2]**2 - s3[2]**2)],\n",
    "                [(d23**2 - d24**2)-(s3[0]**2 - s4[0]**2)-(s3[1]**2 - s4[1]**2)-(s3[2]**2 - s4[2]**2)],\n",
    "                [(d24**2 - d25**2)-(s4[0]**2 - s5[0]**2)-(s4[1]**2 - s5[1]**2)-(s4[2]**2 - s5[2]**2)]] \n",
    "\n",
    "        new_B2 = np.array(updated_matrix_b2)\n",
    "\n",
    "\n",
    "        W2 = np.matmul(A_transpose , new_B2)\n",
    "\n",
    "\n",
    "        X2 = np.matmul(Y_inverse , W2)\n",
    "        #print(\"New Location of the user: \")\n",
    "        #print(X2)\n",
    "        m2 = calculate_distance(X2)\n",
    "        #print(\"location Inaccuracy: \", m2)\n",
    "\n",
    "        loc_err.append(m2[0])\n",
    "    avg_loc_error = sum(loc_err)/len(loc_err)\n",
    "    avg_time_error = sum(time_err)/len(time_err)\n",
    "    loc_error.append(avg_loc_error)\n",
    "    time_error.append(avg_time_error)\n",
    "    j=j+5\n",
    "\n",
    "print(time_error)\n",
    "print(loc_error)\n"
   ]
  },
  {
   "cell_type": "code",
   "execution_count": 36,
   "id": "f32bca70",
   "metadata": {},
   "outputs": [],
   "source": [
    "import matplotlib.pyplot as plt"
   ]
  },
  {
   "cell_type": "code",
   "execution_count": 37,
   "id": "4bc30fc5",
   "metadata": {},
   "outputs": [
    {
     "data": {
      "image/png": "[encoded data removed]",
      "text/plain": [
       "<Figure size 432x288 with 1 Axes>"
      ]
     },
     "metadata": {
      "needs_background": "light"
     },
     "output_type": "display_data"
    }
   ],
   "source": [
    "plt.scatter(time_error, loc_error) \n",
    "plt.xlabel('Timing Error')\n",
    "plt.ylabel('Localization Error')\n",
    "plt.title('Timing Error vs Localization Error')\n",
    "plt.show()"
   ]
  },
  {
   "cell_type": "markdown",
   "id": "6cbf26da",
   "metadata": {},
   "source": [
    "From the above figure of Timing Error vs Localization error it can inferred that on increasing the amount of the random errors with time the corresponding average localization error also increases. "
   ]
  }
 ],
 "metadata": {
  "kernelspec": {
   "display_name": "Python 3 (ipykernel)",
   "language": "python",
   "name": "python3"
  },
  "language_info": {
   "codemirror_mode": {
    "name": "ipython",
    "version": 3
   },
   "file_extension": ".py",
   "mimetype": "text/x-python",
   "name": "python",
   "nbconvert_exporter": "python",
   "pygments_lexer": "ipython3",
   "version": "3.9.12"
  }
 },
 "nbformat": 4,
 "nbformat_minor": 5
}
